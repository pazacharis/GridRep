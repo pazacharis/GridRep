{
 "cells": [
  {
   "cell_type": "markdown",
   "metadata": {},
   "source": [
    "# GridRep"
   ]
  },
  {
   "cell_type": "markdown",
   "metadata": {},
   "source": [
    "GridRep is a feature transformation tool that enables more efficient BSCAN clustering. \n",
    "\n",
    "It is effective for large volumes of low-cardinality input data containing multiple repeating unique sets of feature values."
   ]
  },
  {
   "cell_type": "markdown",
   "metadata": {},
   "source": [
    "## preprocess.FeaturesTransformer"
   ]
  },
  {
   "cell_type": "markdown",
   "metadata": {},
   "source": [
    "The GridRep transformer generates a representative input subset based on DBSCAN's _min_samples_ parameter that participates in the clustering procedure. The generated labels can then be re-mapped back to the original input data.\n",
    "\n",
    "If the input data does not appear to be of low-cardinality, the GridRep transformer also allows to eliminate suspected false precision (e.g. lots of meaningless decimals after standardisation) by simply passing a _rounding_decimals_ parameter value.\n",
    "\n",
    "<img src=\"subsampling.png\" width=400>\n",
    "<!-- ![Representatives](files/subsampling.png) -->"
   ]
  },
  {
   "cell_type": "markdown",
   "metadata": {},
   "source": [
    "## cluster.ClippedDBSCAN"
   ]
  },
  {
   "cell_type": "markdown",
   "metadata": {},
   "source": [
    "ClippedDBSCAN wraps the FeaturesTransformer around sklearn's DBSCAN, in a sklearn.pipeline compatible Estimator."
   ]
  },
  {
   "cell_type": "markdown",
   "metadata": {},
   "source": [
    "### Example - Comparison"
   ]
  },
  {
   "cell_type": "markdown",
   "metadata": {},
   "source": [
    "#### Pipeline clustering"
   ]
  },
  {
   "cell_type": "code",
   "execution_count": 25,
   "metadata": {},
   "outputs": [],
   "source": [
    "from sklearn.preprocessing import StandardScaler\n",
    "from sklearn.pipeline import make_pipeline\n",
    "from sklearn.datasets.samples_generator import make_blobs\n",
    "from sklearn.preprocessing import FunctionTransformer\n",
    "from sklearn.cluster import DBSCAN\n",
    "import numpy as np\n",
    "\n",
    "from gridrep.cluster import ClippedDBSCAN"
   ]
  },
  {
   "cell_type": "code",
   "execution_count": 26,
   "metadata": {},
   "outputs": [],
   "source": [
    "centers = [(-2, -2), (0, 0), (4.2, 5)]\n",
    "X, _ = make_blobs(n_samples=20000, centers=centers, n_features=2, random_state=0)\n",
    "\n",
    "radius = 0.1\n",
    "min_samples = 7\n",
    "round_decimals = 1\n",
    "\n",
    "# ClippedDBSCAN\n",
    "pipeline_clip = make_pipeline(StandardScaler(), \n",
    "                              ClippedDBSCAN(eps=radius,\n",
    "                                            min_samples=min_samples,\n",
    "                                            round_decimals=round_decimals))\n",
    "\n",
    "# DBSCAN\n",
    "pipeline_noClip = make_pipeline(StandardScaler(), \n",
    "                                FunctionTransformer(np.round, \n",
    "                                                    validate=False, \n",
    "                                                    kw_args={\"decimals\": round_decimals}),\n",
    "                                DBSCAN(eps=radius, min_samples=min_samples))"
   ]
  },
  {
   "cell_type": "code",
   "execution_count": 27,
   "metadata": {},
   "outputs": [
    {
     "name": "stdout",
     "output_type": "stream",
     "text": [
      "317 ms ± 9.21 ms per loop (mean ± std. dev. of 7 runs, 1 loop each)\n"
     ]
    }
   ],
   "source": [
    "%%timeit\n",
    "pipeline_noClip.fit_predict(X)"
   ]
  },
  {
   "cell_type": "code",
   "execution_count": 28,
   "metadata": {},
   "outputs": [
    {
     "name": "stdout",
     "output_type": "stream",
     "text": [
      "36.4 ms ± 479 µs per loop (mean ± std. dev. of 7 runs, 10 loops each)\n"
     ]
    }
   ],
   "source": [
    "%%timeit\n",
    "pipeline_clip.fit_predict(X)"
   ]
  }
 ],
 "metadata": {
  "kernelspec": {
   "display_name": "Python 3",
   "language": "python",
   "name": "python3"
  },
  "language_info": {
   "codemirror_mode": {
    "name": "ipython",
    "version": 3
   },
   "file_extension": ".py",
   "mimetype": "text/x-python",
   "name": "python",
   "nbconvert_exporter": "python",
   "pygments_lexer": "ipython3",
   "version": "3.7.5"
  }
 },
 "nbformat": 4,
 "nbformat_minor": 2
}
